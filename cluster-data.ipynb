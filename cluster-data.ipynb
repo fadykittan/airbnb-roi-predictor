{
 "cells": [
  {
   "cell_type": "code",
   "execution_count": 33,
   "id": "bc91b699",
   "metadata": {},
   "outputs": [],
   "source": [
    "import pandas as pd\n",
    "from pylab import rcParams\n",
    "import seaborn as sb\n",
    "import matplotlib.pyplot as plt\n",
    "import numpy as np\n",
    "\n",
    "import sklearn\n",
    "from sklearn.cluster import DBSCAN\n",
    "from collections import Counter"
   ]
  },
  {
   "cell_type": "code",
   "execution_count": 34,
   "id": "fb099b30",
   "metadata": {},
   "outputs": [],
   "source": [
    "%matplotlib inline\n",
    "rcParams['figure.figsize'] = 5, 4\n",
    "sb.set_style('whitegrid')"
   ]
  },
  {
   "cell_type": "code",
   "execution_count": 35,
   "id": "89467fd5",
   "metadata": {},
   "outputs": [
    {
     "data": {
      "text/html": [
       "<div>\n",
       "<style scoped>\n",
       "    .dataframe tbody tr th:only-of-type {\n",
       "        vertical-align: middle;\n",
       "    }\n",
       "\n",
       "    .dataframe tbody tr th {\n",
       "        vertical-align: top;\n",
       "    }\n",
       "\n",
       "    .dataframe thead th {\n",
       "        text-align: right;\n",
       "    }\n",
       "</style>\n",
       "<table border=\"1\" class=\"dataframe\">\n",
       "  <thead>\n",
       "    <tr style=\"text-align: right;\">\n",
       "      <th></th>\n",
       "      <th>City</th>\n",
       "      <th>Price</th>\n",
       "      <th>Day</th>\n",
       "      <th>Room Type</th>\n",
       "      <th>Shared Room</th>\n",
       "      <th>Private Room</th>\n",
       "      <th>Person Capacity</th>\n",
       "      <th>Superhost</th>\n",
       "      <th>Multiple Rooms</th>\n",
       "      <th>Business</th>\n",
       "      <th>Cleanliness Rating</th>\n",
       "      <th>Guest Satisfaction</th>\n",
       "      <th>Bedrooms</th>\n",
       "      <th>City Center (km)</th>\n",
       "      <th>Metro Distance (km)</th>\n",
       "      <th>Attraction Index</th>\n",
       "      <th>Normalised Attraction Index</th>\n",
       "      <th>Restraunt Index</th>\n",
       "      <th>Normalised Restraunt Index</th>\n",
       "    </tr>\n",
       "  </thead>\n",
       "  <tbody>\n",
       "    <tr>\n",
       "      <th>0</th>\n",
       "      <td>Amsterdam</td>\n",
       "      <td>194.033698</td>\n",
       "      <td>Weekday</td>\n",
       "      <td>Private room</td>\n",
       "      <td>False</td>\n",
       "      <td>True</td>\n",
       "      <td>2.0</td>\n",
       "      <td>False</td>\n",
       "      <td>1</td>\n",
       "      <td>0</td>\n",
       "      <td>10.0</td>\n",
       "      <td>93.0</td>\n",
       "      <td>1</td>\n",
       "      <td>5.022964</td>\n",
       "      <td>2.539380</td>\n",
       "      <td>78.690379</td>\n",
       "      <td>4.166708</td>\n",
       "      <td>98.253896</td>\n",
       "      <td>6.846473</td>\n",
       "    </tr>\n",
       "    <tr>\n",
       "      <th>1</th>\n",
       "      <td>Amsterdam</td>\n",
       "      <td>344.245776</td>\n",
       "      <td>Weekday</td>\n",
       "      <td>Private room</td>\n",
       "      <td>False</td>\n",
       "      <td>True</td>\n",
       "      <td>4.0</td>\n",
       "      <td>False</td>\n",
       "      <td>0</td>\n",
       "      <td>0</td>\n",
       "      <td>8.0</td>\n",
       "      <td>85.0</td>\n",
       "      <td>1</td>\n",
       "      <td>0.488389</td>\n",
       "      <td>0.239404</td>\n",
       "      <td>631.176378</td>\n",
       "      <td>33.421209</td>\n",
       "      <td>837.280757</td>\n",
       "      <td>58.342928</td>\n",
       "    </tr>\n",
       "    <tr>\n",
       "      <th>2</th>\n",
       "      <td>Amsterdam</td>\n",
       "      <td>264.101422</td>\n",
       "      <td>Weekday</td>\n",
       "      <td>Private room</td>\n",
       "      <td>False</td>\n",
       "      <td>True</td>\n",
       "      <td>2.0</td>\n",
       "      <td>False</td>\n",
       "      <td>0</td>\n",
       "      <td>1</td>\n",
       "      <td>9.0</td>\n",
       "      <td>87.0</td>\n",
       "      <td>1</td>\n",
       "      <td>5.748312</td>\n",
       "      <td>3.651621</td>\n",
       "      <td>75.275877</td>\n",
       "      <td>3.985908</td>\n",
       "      <td>95.386955</td>\n",
       "      <td>6.646700</td>\n",
       "    </tr>\n",
       "    <tr>\n",
       "      <th>3</th>\n",
       "      <td>Amsterdam</td>\n",
       "      <td>433.529398</td>\n",
       "      <td>Weekday</td>\n",
       "      <td>Private room</td>\n",
       "      <td>False</td>\n",
       "      <td>True</td>\n",
       "      <td>4.0</td>\n",
       "      <td>False</td>\n",
       "      <td>0</td>\n",
       "      <td>1</td>\n",
       "      <td>9.0</td>\n",
       "      <td>90.0</td>\n",
       "      <td>2</td>\n",
       "      <td>0.384862</td>\n",
       "      <td>0.439876</td>\n",
       "      <td>493.272534</td>\n",
       "      <td>26.119108</td>\n",
       "      <td>875.033098</td>\n",
       "      <td>60.973565</td>\n",
       "    </tr>\n",
       "    <tr>\n",
       "      <th>4</th>\n",
       "      <td>Amsterdam</td>\n",
       "      <td>485.552926</td>\n",
       "      <td>Weekday</td>\n",
       "      <td>Private room</td>\n",
       "      <td>False</td>\n",
       "      <td>True</td>\n",
       "      <td>2.0</td>\n",
       "      <td>True</td>\n",
       "      <td>0</td>\n",
       "      <td>0</td>\n",
       "      <td>10.0</td>\n",
       "      <td>98.0</td>\n",
       "      <td>1</td>\n",
       "      <td>0.544738</td>\n",
       "      <td>0.318693</td>\n",
       "      <td>552.830324</td>\n",
       "      <td>29.272733</td>\n",
       "      <td>815.305740</td>\n",
       "      <td>56.811677</td>\n",
       "    </tr>\n",
       "  </tbody>\n",
       "</table>\n",
       "</div>"
      ],
      "text/plain": [
       "        City       Price      Day     Room Type  Shared Room  Private Room  \\\n",
       "0  Amsterdam  194.033698  Weekday  Private room        False          True   \n",
       "1  Amsterdam  344.245776  Weekday  Private room        False          True   \n",
       "2  Amsterdam  264.101422  Weekday  Private room        False          True   \n",
       "3  Amsterdam  433.529398  Weekday  Private room        False          True   \n",
       "4  Amsterdam  485.552926  Weekday  Private room        False          True   \n",
       "\n",
       "   Person Capacity  Superhost  Multiple Rooms  Business  Cleanliness Rating  \\\n",
       "0              2.0      False               1         0                10.0   \n",
       "1              4.0      False               0         0                 8.0   \n",
       "2              2.0      False               0         1                 9.0   \n",
       "3              4.0      False               0         1                 9.0   \n",
       "4              2.0       True               0         0                10.0   \n",
       "\n",
       "   Guest Satisfaction  Bedrooms  City Center (km)  Metro Distance (km)  \\\n",
       "0                93.0         1          5.022964             2.539380   \n",
       "1                85.0         1          0.488389             0.239404   \n",
       "2                87.0         1          5.748312             3.651621   \n",
       "3                90.0         2          0.384862             0.439876   \n",
       "4                98.0         1          0.544738             0.318693   \n",
       "\n",
       "   Attraction Index  Normalised Attraction Index  Restraunt Index  \\\n",
       "0         78.690379                     4.166708        98.253896   \n",
       "1        631.176378                    33.421209       837.280757   \n",
       "2         75.275877                     3.985908        95.386955   \n",
       "3        493.272534                    26.119108       875.033098   \n",
       "4        552.830324                    29.272733       815.305740   \n",
       "\n",
       "   Normalised Restraunt Index  \n",
       "0                    6.846473  \n",
       "1                   58.342928  \n",
       "2                    6.646700  \n",
       "3                   60.973565  \n",
       "4                   56.811677  "
      ]
     },
     "execution_count": 35,
     "metadata": {},
     "output_type": "execute_result"
    }
   ],
   "source": [
    "# Read the airbnb dataset\n",
    "df = pd.read_csv('datasets/airbnb-cleaned-europe-dataset.csv')\n",
    "df.head()"
   ]
  },
  {
   "cell_type": "code",
   "execution_count": 36,
   "id": "b3aa8739",
   "metadata": {},
   "outputs": [],
   "source": [
    "city_name = 'Amsterdam'\n",
    "\n",
    "def get_copy_by_city_name(cityName):\n",
    "    temp = df.copy()\n",
    "    temp = temp[temp['City'] == cityName]\n",
    "    temp.drop('City', axis=1, inplace=True)\n",
    "    return temp\n",
    "\n",
    "df = get_copy_by_city_name(city_name)"
   ]
  },
  {
   "cell_type": "code",
   "execution_count": 37,
   "id": "dca3ea3e",
   "metadata": {},
   "outputs": [
    {
     "data": {
      "text/html": [
       "<div>\n",
       "<style scoped>\n",
       "    .dataframe tbody tr th:only-of-type {\n",
       "        vertical-align: middle;\n",
       "    }\n",
       "\n",
       "    .dataframe tbody tr th {\n",
       "        vertical-align: top;\n",
       "    }\n",
       "\n",
       "    .dataframe thead th {\n",
       "        text-align: right;\n",
       "    }\n",
       "</style>\n",
       "<table border=\"1\" class=\"dataframe\">\n",
       "  <thead>\n",
       "    <tr style=\"text-align: right;\">\n",
       "      <th></th>\n",
       "      <th>Price</th>\n",
       "      <th>Person Capacity</th>\n",
       "      <th>Superhost</th>\n",
       "      <th>Multiple Rooms</th>\n",
       "      <th>Business</th>\n",
       "      <th>Cleanliness Rating</th>\n",
       "      <th>Guest Satisfaction</th>\n",
       "      <th>Bedrooms</th>\n",
       "      <th>City Center (km)</th>\n",
       "      <th>Metro Distance (km)</th>\n",
       "      <th>Normalised Attraction Index</th>\n",
       "      <th>Normalised Restraunt Index</th>\n",
       "      <th>Weekday</th>\n",
       "      <th>Weekend</th>\n",
       "      <th>Entire home/apt</th>\n",
       "      <th>Private room</th>\n",
       "    </tr>\n",
       "  </thead>\n",
       "  <tbody>\n",
       "    <tr>\n",
       "      <th>0</th>\n",
       "      <td>194.033698</td>\n",
       "      <td>2.0</td>\n",
       "      <td>0</td>\n",
       "      <td>1</td>\n",
       "      <td>0</td>\n",
       "      <td>10.0</td>\n",
       "      <td>93.0</td>\n",
       "      <td>1</td>\n",
       "      <td>5.022964</td>\n",
       "      <td>2.539380</td>\n",
       "      <td>4.166708</td>\n",
       "      <td>6.846473</td>\n",
       "      <td>1</td>\n",
       "      <td>0</td>\n",
       "      <td>0</td>\n",
       "      <td>1</td>\n",
       "    </tr>\n",
       "    <tr>\n",
       "      <th>1</th>\n",
       "      <td>344.245776</td>\n",
       "      <td>4.0</td>\n",
       "      <td>0</td>\n",
       "      <td>0</td>\n",
       "      <td>0</td>\n",
       "      <td>8.0</td>\n",
       "      <td>85.0</td>\n",
       "      <td>1</td>\n",
       "      <td>0.488389</td>\n",
       "      <td>0.239404</td>\n",
       "      <td>33.421209</td>\n",
       "      <td>58.342928</td>\n",
       "      <td>1</td>\n",
       "      <td>0</td>\n",
       "      <td>0</td>\n",
       "      <td>1</td>\n",
       "    </tr>\n",
       "    <tr>\n",
       "      <th>2</th>\n",
       "      <td>264.101422</td>\n",
       "      <td>2.0</td>\n",
       "      <td>0</td>\n",
       "      <td>0</td>\n",
       "      <td>1</td>\n",
       "      <td>9.0</td>\n",
       "      <td>87.0</td>\n",
       "      <td>1</td>\n",
       "      <td>5.748312</td>\n",
       "      <td>3.651621</td>\n",
       "      <td>3.985908</td>\n",
       "      <td>6.646700</td>\n",
       "      <td>1</td>\n",
       "      <td>0</td>\n",
       "      <td>0</td>\n",
       "      <td>1</td>\n",
       "    </tr>\n",
       "    <tr>\n",
       "      <th>3</th>\n",
       "      <td>433.529398</td>\n",
       "      <td>4.0</td>\n",
       "      <td>0</td>\n",
       "      <td>0</td>\n",
       "      <td>1</td>\n",
       "      <td>9.0</td>\n",
       "      <td>90.0</td>\n",
       "      <td>2</td>\n",
       "      <td>0.384862</td>\n",
       "      <td>0.439876</td>\n",
       "      <td>26.119108</td>\n",
       "      <td>60.973565</td>\n",
       "      <td>1</td>\n",
       "      <td>0</td>\n",
       "      <td>0</td>\n",
       "      <td>1</td>\n",
       "    </tr>\n",
       "    <tr>\n",
       "      <th>4</th>\n",
       "      <td>485.552926</td>\n",
       "      <td>2.0</td>\n",
       "      <td>1</td>\n",
       "      <td>0</td>\n",
       "      <td>0</td>\n",
       "      <td>10.0</td>\n",
       "      <td>98.0</td>\n",
       "      <td>1</td>\n",
       "      <td>0.544738</td>\n",
       "      <td>0.318693</td>\n",
       "      <td>29.272733</td>\n",
       "      <td>56.811677</td>\n",
       "      <td>1</td>\n",
       "      <td>0</td>\n",
       "      <td>0</td>\n",
       "      <td>1</td>\n",
       "    </tr>\n",
       "  </tbody>\n",
       "</table>\n",
       "</div>"
      ],
      "text/plain": [
       "        Price  Person Capacity  Superhost  Multiple Rooms  Business  \\\n",
       "0  194.033698              2.0          0               1         0   \n",
       "1  344.245776              4.0          0               0         0   \n",
       "2  264.101422              2.0          0               0         1   \n",
       "3  433.529398              4.0          0               0         1   \n",
       "4  485.552926              2.0          1               0         0   \n",
       "\n",
       "   Cleanliness Rating  Guest Satisfaction  Bedrooms  City Center (km)  \\\n",
       "0                10.0                93.0         1          5.022964   \n",
       "1                 8.0                85.0         1          0.488389   \n",
       "2                 9.0                87.0         1          5.748312   \n",
       "3                 9.0                90.0         2          0.384862   \n",
       "4                10.0                98.0         1          0.544738   \n",
       "\n",
       "   Metro Distance (km)  Normalised Attraction Index  \\\n",
       "0             2.539380                     4.166708   \n",
       "1             0.239404                    33.421209   \n",
       "2             3.651621                     3.985908   \n",
       "3             0.439876                    26.119108   \n",
       "4             0.318693                    29.272733   \n",
       "\n",
       "   Normalised Restraunt Index  Weekday  Weekend  Entire home/apt  Private room  \n",
       "0                    6.846473        1        0                0             1  \n",
       "1                   58.342928        1        0                0             1  \n",
       "2                    6.646700        1        0                0             1  \n",
       "3                   60.973565        1        0                0             1  \n",
       "4                   56.811677        1        0                0             1  "
      ]
     },
     "execution_count": 37,
     "metadata": {},
     "output_type": "execute_result"
    }
   ],
   "source": [
    "df = df.join(pd.get_dummies(df['Day']))\n",
    "df.drop('Private Room', axis=1, inplace=True)\n",
    "df.drop('Shared Room', axis=1, inplace=True)\n",
    "df = df.join(pd.get_dummies(df['Room Type']))\n",
    "df.drop('Room Type', axis=1, inplace=True)\n",
    "df.drop('Day', axis=1, inplace=True)\n",
    "df['Superhost'] = df['Superhost'].astype(int)\n",
    "df.drop('Shared room', axis=1, inplace=True)\n",
    "df.drop('Attraction Index', axis=1, inplace=True)\n",
    "df.drop('Restraunt Index', axis=1, inplace=True)\n",
    "df.head()"
   ]
  },
  {
   "cell_type": "code",
   "execution_count": 38,
   "id": "3cbe29d7",
   "metadata": {},
   "outputs": [],
   "source": [
    "df.drop('Superhost', axis=1, inplace=True)\n",
    "# df.drop('Multiple Rooms', axis=1, inplace=True)\n",
    "df.drop('Business', axis=1, inplace=True)\n",
    "df.drop('Cleanliness Rating', axis=1, inplace=True)\n",
    "df.drop('Guest Satisfaction', axis=1, inplace=True)\n",
    "# df.drop('Bedrooms', axis=1, inplace=True)\n",
    "# df.drop('City Center (km)', axis=1, inplace=True)\n",
    "# df.drop('Metro Distance (km)', axis=1, inplace=True)\n",
    "# df.drop('Normalised Attraction Index', axis=1, inplace=True)\n",
    "# df.drop('Normalised Restraunt Index', axis=1, inplace=True)\n",
    "df.drop('Weekday', axis=1, inplace=True)\n",
    "df.drop('Weekend', axis=1, inplace=True)\n",
    "df.drop('Entire home/apt', axis=1, inplace=True)\n",
    "df.drop('Private room', axis=1, inplace=True)"
   ]
  },
  {
   "cell_type": "code",
   "execution_count": 39,
   "id": "12f8d30b",
   "metadata": {},
   "outputs": [
    {
     "data": {
      "text/html": [
       "<div>\n",
       "<style scoped>\n",
       "    .dataframe tbody tr th:only-of-type {\n",
       "        vertical-align: middle;\n",
       "    }\n",
       "\n",
       "    .dataframe tbody tr th {\n",
       "        vertical-align: top;\n",
       "    }\n",
       "\n",
       "    .dataframe thead th {\n",
       "        text-align: right;\n",
       "    }\n",
       "</style>\n",
       "<table border=\"1\" class=\"dataframe\">\n",
       "  <thead>\n",
       "    <tr style=\"text-align: right;\">\n",
       "      <th></th>\n",
       "      <th>Price</th>\n",
       "      <th>Person Capacity</th>\n",
       "      <th>Multiple Rooms</th>\n",
       "      <th>Bedrooms</th>\n",
       "      <th>City Center (km)</th>\n",
       "      <th>Metro Distance (km)</th>\n",
       "      <th>Normalised Attraction Index</th>\n",
       "      <th>Normalised Restraunt Index</th>\n",
       "    </tr>\n",
       "  </thead>\n",
       "  <tbody>\n",
       "    <tr>\n",
       "      <th>0</th>\n",
       "      <td>194.033698</td>\n",
       "      <td>2.0</td>\n",
       "      <td>1</td>\n",
       "      <td>1</td>\n",
       "      <td>5.022964</td>\n",
       "      <td>2.539380</td>\n",
       "      <td>4.166708</td>\n",
       "      <td>6.846473</td>\n",
       "    </tr>\n",
       "    <tr>\n",
       "      <th>1</th>\n",
       "      <td>344.245776</td>\n",
       "      <td>4.0</td>\n",
       "      <td>0</td>\n",
       "      <td>1</td>\n",
       "      <td>0.488389</td>\n",
       "      <td>0.239404</td>\n",
       "      <td>33.421209</td>\n",
       "      <td>58.342928</td>\n",
       "    </tr>\n",
       "    <tr>\n",
       "      <th>2</th>\n",
       "      <td>264.101422</td>\n",
       "      <td>2.0</td>\n",
       "      <td>0</td>\n",
       "      <td>1</td>\n",
       "      <td>5.748312</td>\n",
       "      <td>3.651621</td>\n",
       "      <td>3.985908</td>\n",
       "      <td>6.646700</td>\n",
       "    </tr>\n",
       "    <tr>\n",
       "      <th>3</th>\n",
       "      <td>433.529398</td>\n",
       "      <td>4.0</td>\n",
       "      <td>0</td>\n",
       "      <td>2</td>\n",
       "      <td>0.384862</td>\n",
       "      <td>0.439876</td>\n",
       "      <td>26.119108</td>\n",
       "      <td>60.973565</td>\n",
       "    </tr>\n",
       "    <tr>\n",
       "      <th>4</th>\n",
       "      <td>485.552926</td>\n",
       "      <td>2.0</td>\n",
       "      <td>0</td>\n",
       "      <td>1</td>\n",
       "      <td>0.544738</td>\n",
       "      <td>0.318693</td>\n",
       "      <td>29.272733</td>\n",
       "      <td>56.811677</td>\n",
       "    </tr>\n",
       "  </tbody>\n",
       "</table>\n",
       "</div>"
      ],
      "text/plain": [
       "        Price  Person Capacity  Multiple Rooms  Bedrooms  City Center (km)  \\\n",
       "0  194.033698              2.0               1         1          5.022964   \n",
       "1  344.245776              4.0               0         1          0.488389   \n",
       "2  264.101422              2.0               0         1          5.748312   \n",
       "3  433.529398              4.0               0         2          0.384862   \n",
       "4  485.552926              2.0               0         1          0.544738   \n",
       "\n",
       "   Metro Distance (km)  Normalised Attraction Index  \\\n",
       "0             2.539380                     4.166708   \n",
       "1             0.239404                    33.421209   \n",
       "2             3.651621                     3.985908   \n",
       "3             0.439876                    26.119108   \n",
       "4             0.318693                    29.272733   \n",
       "\n",
       "   Normalised Restraunt Index  \n",
       "0                    6.846473  \n",
       "1                   58.342928  \n",
       "2                    6.646700  \n",
       "3                   60.973565  \n",
       "4                   56.811677  "
      ]
     },
     "execution_count": 39,
     "metadata": {},
     "output_type": "execute_result"
    }
   ],
   "source": [
    "df.head()"
   ]
  },
  {
   "cell_type": "markdown",
   "id": "1a4386c2",
   "metadata": {},
   "source": [
    "## DBSCAN"
   ]
  },
  {
   "cell_type": "code",
   "execution_count": 40,
   "id": "34b88c90",
   "metadata": {},
   "outputs": [
    {
     "name": "stdout",
     "output_type": "stream",
     "text": [
      "[0 0 0 ... 0 0 0]\n"
     ]
    }
   ],
   "source": [
    "db = DBSCAN(eps = 100, min_samples=5).fit(df)\n",
    "print(db.labels_)"
   ]
  },
  {
   "cell_type": "code",
   "execution_count": 41,
   "id": "10bbd237",
   "metadata": {},
   "outputs": [
    {
     "data": {
      "text/plain": [
       "array([-1,  0,  1])"
      ]
     },
     "execution_count": 41,
     "metadata": {},
     "output_type": "execute_result"
    }
   ],
   "source": [
    "np.unique(db.labels_)"
   ]
  },
  {
   "cell_type": "markdown",
   "id": "43031d5e",
   "metadata": {},
   "source": [
    "## DBSCAN 2"
   ]
  },
  {
   "cell_type": "code",
   "execution_count": 42,
   "id": "05f935a4",
   "metadata": {},
   "outputs": [
    {
     "data": {
      "text/plain": [
       "array([-1,  0])"
      ]
     },
     "execution_count": 42,
     "metadata": {},
     "output_type": "execute_result"
    }
   ],
   "source": [
    "labels = DBSCAN(eps=80, min_samples=20).fit_predict(df)\n",
    "np.unique(labels)"
   ]
  },
  {
   "cell_type": "markdown",
   "id": "b5f41752",
   "metadata": {},
   "source": [
    "## VIZ New 2"
   ]
  },
  {
   "cell_type": "code",
   "execution_count": 43,
   "id": "a44125cd",
   "metadata": {},
   "outputs": [
    {
     "data": {
      "image/png": "[encoded data removed]",
      "text/plain": [
       "<Figure size 2000x1600 with 1 Axes>"
      ]
     },
     "metadata": {},
     "output_type": "display_data"
    }
   ],
   "source": [
    "# df.iloc[labels == 0, 0]\n",
    "x, y = 0, 1\n",
    "# plt.scatter(df.iloc[labels == -1, x], df.iloc[labels == -1, y], s = 8, c = 'black')\n",
    "# plt.scatter(df.iloc[labels == 0, x], df.iloc[labels == 0, y], s = 8, c = 'blue')\n",
    "# plt.scatter(df.iloc[labels == 1, x], df.iloc[labels == 1, y], s = 8, c = 'red')\n",
    "\n",
    "plt.figure(figsize=(20,16))\n",
    "\n",
    "for i in np.unique(labels):\n",
    "    if i == -1:\n",
    "        plt.scatter(df.iloc[labels == i, x], df.iloc[labels == i, y], s = 60, c='black')\n",
    "    else:\n",
    "        plt.scatter(df.iloc[labels == i, x], df.iloc[labels == i, y], s = 60)"
   ]
  },
  {
   "cell_type": "markdown",
   "id": "311ee66a",
   "metadata": {},
   "source": [
    "## VIZ New"
   ]
  },
  {
   "cell_type": "code",
   "execution_count": 15,
   "id": "6d473144",
   "metadata": {},
   "outputs": [
    {
     "data": {
      "image/png": "[encoded data removed]",
      "text/plain": [
       "<Figure size 500x400 with 1 Axes>"
      ]
     },
     "metadata": {},
     "output_type": "display_data"
    }
   ],
   "source": [
    "plt.scatter(df['Person Capacity'], df['Price'],c=db.labels_)\n",
    "plt.show()"
   ]
  },
  {
   "cell_type": "markdown",
   "id": "65feccd5",
   "metadata": {},
   "source": [
    "## VIZ"
   ]
  },
  {
   "cell_type": "code",
   "execution_count": 16,
   "id": "94d6e820",
   "metadata": {},
   "outputs": [],
   "source": [
    "outliers_df = pd.DataFrame(df)\n",
    "#print(Counter(model.labels_))\n",
    "#print(outliers_df[model.labels_==-1])"
   ]
  },
  {
   "cell_type": "code",
   "execution_count": 18,
   "id": "97cb38bf",
   "metadata": {},
   "outputs": [
    {
     "data": {
      "text/plain": [
       "array([-1,  0,  1])"
      ]
     },
     "execution_count": 18,
     "metadata": {},
     "output_type": "execute_result"
    }
   ],
   "source": [
    "labels = db.labels_\n",
    "np.unique(labels)"
   ]
  },
  {
   "cell_type": "code",
   "execution_count": 20,
   "id": "5f65ff01",
   "metadata": {
    "scrolled": true
   },
   "outputs": [
    {
     "data": {
      "text/plain": [
       "Text(0.5, 1.0, 'DBSCAN for outlier Detection')"
      ]
     },
     "execution_count": 20,
     "metadata": {},
     "output_type": "execute_result"
    },
    {
     "data": {
      "image/png": "[encoded data removed]",
      "text/plain": [
       "<Figure size 500x400 with 1 Axes>"
      ]
     },
     "metadata": {},
     "output_type": "display_data"
    }
   ],
   "source": [
    "fig = plt.figure()\n",
    "ax = fig.add_axes([.1,.1, 1,1])\n",
    "colors = db.labels_\n",
    "\n",
    "#ax.scatter(df[:0], df[:1], c=colors, s=120)\n",
    "ax.scatter(df['Price'], df['Person Capacity'], c=colors, s=120)\n",
    "\n",
    "ax.set_xlabel('Price')\n",
    "ax.set_ylabel('Person Capacity')\n",
    "\n",
    "plt.title('DBSCAN for outlier Detection')"
   ]
  },
  {
   "cell_type": "code",
   "execution_count": null,
   "id": "4ab23a77",
   "metadata": {},
   "outputs": [],
   "source": []
  }
 ],
 "metadata": {
  "kernelspec": {
   "display_name": "Python 3 (ipykernel)",
   "language": "python",
   "name": "python3"
  },
  "language_info": {
   "codemirror_mode": {
    "name": "ipython",
    "version": 3
   },
   "file_extension": ".py",
   "mimetype": "text/x-python",
   "name": "python",
   "nbconvert_exporter": "python",
   "pygments_lexer": "ipython3",
   "version": "3.11.5"
  }
 },
 "nbformat": 4,
 "nbformat_minor": 5
}
